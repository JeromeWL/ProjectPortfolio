{
 "cells": [
  {
   "cell_type": "code",
   "execution_count": 1,
   "id": "73c7fbde",
   "metadata": {},
   "outputs": [],
   "source": [
    "#Modules\n",
    "import os\n",
    "import gc\n",
    "import numpy as np\n",
    "import nibabel as nib\n",
    "import matplotlib.pyplot as plt\n",
    "from scipy import ndimage\n",
    "from sklearn.model_selection import train_test_split\n",
    "from PIL import Image"
   ]
  },
  {
   "cell_type": "code",
   "execution_count": 2,
   "id": "5856e118",
   "metadata": {},
   "outputs": [],
   "source": [
    "#preparing filepaths using list comprehension\n",
    "ImageFolderPath = '/data/groups/gomesr/PDAC_Scans/Datasets/Decathlon/Scans/'\n",
    "LabelFolderPath = '/data/groups/gomesr/PDAC_Scans/Datasets/Decathlon/Labels/'\n",
    "\n",
    "#creating the file paths using list comprehension\n",
    "scanArray = [ImageFolderPath + x for x in sorted(os.listdir(ImageFolderPath))]\n",
    "labelArray = [LabelFolderPath + x for x in sorted(os.listdir(LabelFolderPath))]"
   ]
  },
  {
   "cell_type": "code",
   "execution_count": 3,
   "id": "aad6bb7f",
   "metadata": {
    "scrolled": true
   },
   "outputs": [],
   "source": [
    "#Increase memory\n",
    "\n",
    "X_train, X_test, y_train, y_test = train_test_split(scanArray, labelArray, test_size=0.2, random_state=42)\n",
    "\n",
    "X_train, y_train = sorted(X_train), sorted(y_train)\n",
    "X_test, y_test = sorted(X_test), sorted(y_test)\n",
    "\n",
    "#X_test"
   ]
  },
  {
   "cell_type": "code",
   "execution_count": 4,
   "id": "3be0794b",
   "metadata": {},
   "outputs": [
    {
     "data": {
      "text/plain": [
       "54"
      ]
     },
     "execution_count": 4,
     "metadata": {},
     "output_type": "execute_result"
    }
   ],
   "source": [
    "len(y_test)"
   ]
  },
  {
   "cell_type": "code",
   "execution_count": 5,
   "id": "01b0dcab",
   "metadata": {},
   "outputs": [
    {
     "name": "stdout",
     "output_type": "stream",
     "text": [
      "Unique values in the first label scan: [0. 1. 2.]\n"
     ]
    }
   ],
   "source": [
    "label_img = nib.load(y_train[0])\n",
    "\n",
    "# Convert the label image to a NumPy array\n",
    "sample_label = label_img.get_fdata()\n",
    "\n",
    "# Check unique values in the label scan\n",
    "unique_values = np.unique(sample_label)\n",
    "\n",
    "print(\"Unique values in the first label scan:\", unique_values)"
   ]
  },
  {
   "cell_type": "code",
   "execution_count": 6,
   "id": "36015185",
   "metadata": {},
   "outputs": [],
   "source": [
    "# correct = 0\n",
    "# for i in range(len(X_test)):\n",
    "#     if os.path.basename(X_test[i]) == os.path.basename(y_test[i]):\n",
    "#         correct += 1\n",
    "\n",
    "# correct"
   ]
  },
  {
   "cell_type": "code",
   "execution_count": 7,
   "id": "b3b2c91b",
   "metadata": {},
   "outputs": [],
   "source": [
    "def displayProcessed(numpyArray, name):\n",
    "    slice_index = 130\n",
    "    image_slice = numpyArray[:, :, slice_index, 0]\n",
    "\n",
    "    plt.title(name)\n",
    "    plt.imshow(image_slice, cmap='gray')\n",
    "    plt.show()"
   ]
  },
  {
   "cell_type": "code",
   "execution_count": 8,
   "id": "e9ed1644",
   "metadata": {},
   "outputs": [
    {
     "name": "stdout",
     "output_type": "stream",
     "text": [
      "Processing files to TrainingData\n",
      "File processing 25% complete\n",
      "File processing 50% complete\n",
      "File processing 75% complete\n",
      "Complete\n",
      "Processing files to TestingData\n",
      "Complete\n",
      "Processing files to TrainingLabels\n",
      "File processing 25% complete\n",
      "File processing 50% complete\n",
      "File processing 75% complete\n",
      "Complete\n",
      "Processing files to TestingLabels\n",
      "Complete\n"
     ]
    }
   ],
   "source": [
    "    #Cell specific varaibles\n",
    "    iterCheckpoints = {int(len(scanArray) * 0.25): '25%', int(len(scanArray) * 0.5): '50%', int(len(scanArray) * 0.75): '75%'}\n",
    "    resolution = (128, 128, 128)\n",
    "    \n",
    "    MIN_HU = -200\n",
    "    MAX_HU = 200\n",
    "    \n",
    "    def resize(image, target_size, labelCheck=False):\n",
    "        zoom_factors = (\n",
    "            target_size[0] / image.shape[0],\n",
    "            target_size[1] / image.shape[1],\n",
    "            target_size[2] / image.shape[2]\n",
    "        )\n",
    "\n",
    "        if labelCheck:\n",
    "            resized_image = ndimage.zoom(image, zoom=zoom_factors, order=0)\n",
    "            resized_image = np.round(resized_image).astype(int)\n",
    "        else:\n",
    "            resized_image = ndimage.zoom(image, zoom=zoom_factors, order=1)\n",
    "\n",
    "        return resized_image\n",
    "\n",
    "    \n",
    "    #normalizes tissue density and sets the output to a float\n",
    "    def huNormalize(volume):\n",
    "        volume[volume < MIN_HU] = MIN_HU\n",
    "        volume[volume > MAX_HU] = MAX_HU\n",
    "        volume = (volume - MIN_HU) / (MAX_HU - MIN_HU)\n",
    "        volume = np.nan_to_num(volume)\n",
    "        \n",
    "        return volume.astype('float32')\n",
    "\n",
    "    #Cropping function in order to crop out the redundant information of the CT scans (the background)\n",
    "    def numpyCrop(ImageArray):\n",
    "        height, width = ImageArray.shape[:2]\n",
    "\n",
    "        # Cropping the y margin by 20% top and bottom and x margin by 5% left and right.\n",
    "        yMargin = int(height * 0.4 / 2)\n",
    "        xMargin = int(width * 0.1 / 2)\n",
    "\n",
    "        top_margin = yMargin\n",
    "        bottom_margin = height - yMargin\n",
    "        left_margin = xMargin\n",
    "        right_margin = width - xMargin\n",
    "        cropped_image = ImageArray[top_margin:bottom_margin, left_margin:right_margin]\n",
    "\n",
    "        return cropped_image\n",
    "\n",
    "    def imageProcessor(ImageArray, filePath, labelCheck = False,):\n",
    "        print(f'Processing files to {os.path.basename(os.path.normpath(filePath))}')\n",
    "        val = 0\n",
    "\n",
    "        for x in ImageArray:\n",
    "            fileName = os.path.basename(x).split(\".\", 1)[0]\n",
    "            \n",
    "            img = nib.load(x)\n",
    "             #rotates, mirrors and then crops the image.\n",
    "            data = numpyCrop(np.fliplr(np.rot90(np.array(img.dataobj))))\n",
    "            #data = data.transpose(2, 0, 1)\n",
    "\n",
    "            if labelCheck:\n",
    "                data = resize(data, resolution, labelCheck=True)\n",
    "                data = np.round(data).astype(int)\n",
    "            else:\n",
    "                data = resize(huNormalize(data), resolution, labelCheck=False)\n",
    "\n",
    "            data = data[:, :, :, np.newaxis]\n",
    "\n",
    "            #displayProcessed(data, fileName)\n",
    "            np.save(filePath+fileName+'.npy', data)\n",
    "            del img, data\n",
    "            gc.collect()\n",
    "\n",
    "            \n",
    "            val += 1\n",
    "            if val in iterCheckpoints:\n",
    "                print(f'File processing {iterCheckpoints[val]} complete')\n",
    "\n",
    "        print('Complete')\n",
    "        \n",
    "imageProcessor(X_train, './PDAC_NPprepedData/TrainingData/', labelCheck=False)\n",
    "imageProcessor(X_test, './PDAC_NPprepedData/TestingData/', labelCheck=False)\n",
    "\n",
    "imageProcessor(y_train, './PDAC_NPprepedData/TrainingLabels/', labelCheck=True)\n",
    "imageProcessor(y_test, './PDAC_NPprepedData/TestingLabels/', labelCheck=True)"
   ]
  },
  {
   "cell_type": "code",
   "execution_count": null,
   "id": "7ac6c5ec",
   "metadata": {},
   "outputs": [],
   "source": []
  }
 ],
 "metadata": {
  "kernelspec": {
   "display_name": "Python 3",
   "language": "python",
   "name": "python3"
  },
  "language_info": {
   "codemirror_mode": {
    "name": "ipython",
    "version": 3
   },
   "file_extension": ".py",
   "mimetype": "text/x-python",
   "name": "python",
   "nbconvert_exporter": "python",
   "pygments_lexer": "ipython3",
   "version": "3.8.5"
  },
  "toc": {
   "base_numbering": 1,
   "nav_menu": {},
   "number_sections": true,
   "sideBar": true,
   "skip_h1_title": false,
   "title_cell": "Table of Contents",
   "title_sidebar": "Contents",
   "toc_cell": false,
   "toc_position": {},
   "toc_section_display": true,
   "toc_window_display": false
  },
  "varInspector": {
   "cols": {
    "lenName": 16,
    "lenType": 16,
    "lenVar": 40
   },
   "kernels_config": {
    "python": {
     "delete_cmd_postfix": "",
     "delete_cmd_prefix": "del ",
     "library": "var_list.py",
     "varRefreshCmd": "print(var_dic_list())"
    },
    "r": {
     "delete_cmd_postfix": ") ",
     "delete_cmd_prefix": "rm(",
     "library": "var_list.r",
     "varRefreshCmd": "cat(var_dic_list()) "
    }
   },
   "types_to_exclude": [
    "module",
    "function",
    "builtin_function_or_method",
    "instance",
    "_Feature"
   ],
   "window_display": false
  }
 },
 "nbformat": 4,
 "nbformat_minor": 5
}
